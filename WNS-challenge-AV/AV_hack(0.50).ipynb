{
  "nbformat": 4,
  "nbformat_minor": 0,
  "metadata": {
    "colab": {
      "name": "AV_hack.ipynb",
      "version": "0.3.2",
      "provenance": [],
      "toc_visible": true
    },
    "kernelspec": {
      "display_name": "Python 3",
      "language": "python",
      "name": "python3"
    },
    "accelerator": "GPU"
  },
  "cells": [
    {
      "metadata": {
        "id": "8CYC821YohHY",
        "colab_type": "code",
        "colab": {}
      },
      "cell_type": "code",
      "source": [
        "import os\n",
        "import numpy as np\n",
        "import pandas as pd \n",
        "from tqdm import tqdm_notebook\n",
        "import matplotlib.pyplot as plt\n",
        "%matplotlib inline\n",
        "\n",
        "import warnings\n",
        "warnings.filterwarnings('ignore')\n",
        "\n",
        "import seaborn\n",
        "from sklearn.utils import shuffle"
      ],
      "execution_count": 0,
      "outputs": []
    },
    {
      "metadata": {
        "id": "GizgqZ8SohHg",
        "colab_type": "code",
        "colab": {}
      },
      "cell_type": "code",
      "source": [
        "train = pd.read_csv('train.csv')\n",
        "Y = train.is_promoted"
      ],
      "execution_count": 0,
      "outputs": []
    },
    {
      "metadata": {
        "id": "IfGbMRCzohHn",
        "colab_type": "code",
        "colab": {}
      },
      "cell_type": "code",
      "source": [
        "test = pd.read_csv('test.csv')\n",
        "test_ID = test.employee_id"
      ],
      "execution_count": 0,
      "outputs": []
    },
    {
      "metadata": {
        "id": "H-6YrUHIohHs",
        "colab_type": "code",
        "colab": {
          "base_uri": "https://localhost:8080/",
          "height": 51
        },
        "outputId": "fad3768f-b5fd-46b9-f5bf-fa992dcc1fcc"
      },
      "cell_type": "code",
      "source": [
        "print('Train shape', train.shape)\n",
        "print('Test shape',  test.shape)"
      ],
      "execution_count": 46,
      "outputs": [
        {
          "output_type": "stream",
          "text": [
            "Train shape (54808, 14)\n",
            "Test shape (23490, 13)\n"
          ],
          "name": "stdout"
        }
      ]
    },
    {
      "metadata": {
        "id": "Aa3DYXtLohHz",
        "colab_type": "code",
        "colab": {}
      },
      "cell_type": "code",
      "source": [
        "train.head()"
      ],
      "execution_count": 0,
      "outputs": []
    },
    {
      "metadata": {
        "id": "NIBEUIXfohH4",
        "colab_type": "code",
        "colab": {}
      },
      "cell_type": "code",
      "source": [
        "test.head()"
      ],
      "execution_count": 0,
      "outputs": []
    },
    {
      "metadata": {
        "id": "-DME_U1nohH9",
        "colab_type": "code",
        "colab": {}
      },
      "cell_type": "code",
      "source": [
        "train.isnull().sum(axis=1).head(15)"
      ],
      "execution_count": 0,
      "outputs": []
    },
    {
      "metadata": {
        "id": "Zg2GUhj-ohIB",
        "colab_type": "code",
        "colab": {}
      },
      "cell_type": "code",
      "source": [
        "train.isnull().sum(axis=0).head(15)"
      ],
      "execution_count": 0,
      "outputs": []
    },
    {
      "metadata": {
        "id": "uzUiycx3ohIE",
        "colab_type": "code",
        "colab": {}
      },
      "cell_type": "code",
      "source": [
        "test.isnull().sum(axis=1).head(15)"
      ],
      "execution_count": 0,
      "outputs": []
    },
    {
      "metadata": {
        "id": "J3YntxV-ohIM",
        "colab_type": "code",
        "colab": {}
      },
      "cell_type": "code",
      "source": [
        "test.isnull().sum(axis=0).head(15)"
      ],
      "execution_count": 0,
      "outputs": []
    },
    {
      "metadata": {
        "id": "3J3FnWk_ohIR",
        "colab_type": "code",
        "colab": {}
      },
      "cell_type": "code",
      "source": [
        "feats_counts = train.nunique(dropna = False)"
      ],
      "execution_count": 0,
      "outputs": []
    },
    {
      "metadata": {
        "id": "smsc_7IJohIT",
        "colab_type": "code",
        "colab": {}
      },
      "cell_type": "code",
      "source": [
        "feats_counts.sort_values()[:]"
      ],
      "execution_count": 0,
      "outputs": []
    },
    {
      "metadata": {
        "id": "dy7-mQuqohIZ",
        "colab_type": "code",
        "colab": {}
      },
      "cell_type": "code",
      "source": [
        "nunique = test.nunique(dropna=False).sort_values()\n",
        "nunique"
      ],
      "execution_count": 0,
      "outputs": []
    },
    {
      "metadata": {
        "id": "EMKNkB9NohIi",
        "colab_type": "code",
        "colab": {
          "base_uri": "https://localhost:8080/",
          "height": 51
        },
        "outputId": "b35e0b7f-b92e-4b92-977e-8df69185d113"
      },
      "cell_type": "code",
      "source": [
        "count_class_0, count_class_1 = train.is_promoted.value_counts()\n",
        "print(count_class_0)\n",
        "print(count_class_1 )"
      ],
      "execution_count": 47,
      "outputs": [
        {
          "output_type": "stream",
          "text": [
            "50140\n",
            "4668\n"
          ],
          "name": "stdout"
        }
      ]
    },
    {
      "metadata": {
        "id": "QAvGsjVvohIm",
        "colab_type": "code",
        "colab": {
          "base_uri": "https://localhost:8080/",
          "height": 51
        },
        "outputId": "4d10c72f-d013-4614-827a-206ed4e4c2cb"
      },
      "cell_type": "code",
      "source": [
        "df_class_1 = train[train['is_promoted'] == 1]\n",
        "train = pd.concat([train, df_class_1], axis = 0)\n",
        "count_class_0, count_class_1 = train.is_promoted.value_counts()\n",
        "print(count_class_0)\n",
        "print(count_class_1 )"
      ],
      "execution_count": 49,
      "outputs": [
        {
          "output_type": "stream",
          "text": [
            "50140\n",
            "18672\n"
          ],
          "name": "stdout"
        }
      ]
    },
    {
      "metadata": {
        "id": "07ebgOItohIr",
        "colab_type": "code",
        "colab": {}
      },
      "cell_type": "code",
      "source": [
        "plt.figure(figsize=(14,6))\n",
        "_ = plt.hist(nunique.astype(float)/train.shape[0], bins=100)"
      ],
      "execution_count": 0,
      "outputs": []
    },
    {
      "metadata": {
        "id": "J72W7AlKohIx",
        "colab_type": "code",
        "colab": {}
      },
      "cell_type": "code",
      "source": [
        "train.replace('NaN', -999, inplace=True)\n",
        "test.replace('NaN', -999, inplace=True)"
      ],
      "execution_count": 0,
      "outputs": []
    },
    {
      "metadata": {
        "id": "wIk7sbDpohI0",
        "colab_type": "code",
        "colab": {}
      },
      "cell_type": "code",
      "source": [
        "train.head()"
      ],
      "execution_count": 0,
      "outputs": []
    },
    {
      "metadata": {
        "id": "SWKZEvMzohI4",
        "colab_type": "code",
        "colab": {}
      },
      "cell_type": "code",
      "source": [
        "test.head()"
      ],
      "execution_count": 0,
      "outputs": []
    },
    {
      "metadata": {
        "id": "bTGCpI_3ohI7",
        "colab_type": "code",
        "colab": {}
      },
      "cell_type": "code",
      "source": [
        "cat_cols = list(train.select_dtypes(include=['object']).columns)\n",
        "num_cols = list(train.select_dtypes(exclude=['object']).columns)\n",
        "print(cat_cols)\n",
        "print(num_cols)"
      ],
      "execution_count": 0,
      "outputs": []
    },
    {
      "metadata": {
        "id": "Z8VcKQkFohJA",
        "colab_type": "text"
      },
      "cell_type": "markdown",
      "source": [
        "# ENCODING and Training"
      ]
    },
    {
      "metadata": {
        "id": "eK97WtjZohJA",
        "colab_type": "code",
        "colab": {}
      },
      "cell_type": "code",
      "source": [
        "from sklearn.model_selection import train_test_split, cross_val_predict\n",
        "from sklearn.ensemble import RandomForestClassifier\n",
        "from sklearn.metrics import accuracy_score ,f1_score\n",
        "from sklearn.metrics import confusion_matrix\n",
        "from xgboost import XGBClassifier\n",
        "from sklearn import svm\n",
        "from sklearn.model_selection import StratifiedKFold\n",
        "from sklearn.ensemble import AdaBoostClassifier,GradientBoostingClassifier,VotingClassifier\n",
        "from sklearn.ensemble import BaggingClassifier\n",
        "from sklearn.tree import DecisionTreeClassifier\n",
        "from sklearn.preprocessing import StandardScaler\n",
        "from sklearn.neural_network import MLPClassifier\n",
        "from sklearn.metrics import classification_report,confusion_matrix\n",
        "from sklearn.linear_model import LogisticRegression\n",
        "from sklearn.decomposition import PCA\n",
        "from sklearn.neighbors import KNeighborsClassifier"
      ],
      "execution_count": 0,
      "outputs": []
    },
    {
      "metadata": {
        "id": "s0ggiGzEohJD",
        "colab_type": "code",
        "colab": {
          "base_uri": "https://localhost:8080/",
          "height": 85
        },
        "outputId": "9bf9a3ca-5fcf-4205-bb4c-5eb31a6e60d6"
      },
      "cell_type": "code",
      "source": [
        "#train = shuffle(train)\n",
        "traintest = pd.concat([train.drop(['is_promoted','recruitment_channel'],axis = 1)\n",
        "                       , test.drop(['recruitment_channel'],axis = 1)], axis = 0)\n",
        "print(traintest.shape)\n",
        "X_tt = traintest.copy()\n",
        "\n",
        "y = train.is_promoted\n",
        "#X = X.drop('is_promoted', axis=1)\n",
        "X_tt = X_tt.drop('employee_id', axis=1)\n",
        "\n",
        "print(X_tt.shape)\n",
        "X = X_tt.fillna(X_tt.mean())\n",
        "print(X.shape)\n",
        "\n",
        "##Label-encoding\n",
        "for c in traintest.columns[traintest.dtypes == 'object']:\n",
        "    X[c] = X[c].factorize()[0]\n",
        "\n",
        "scaler = StandardScaler()\n",
        "print(X.shape)\n"
      ],
      "execution_count": 52,
      "outputs": [
        {
          "output_type": "stream",
          "text": [
            "(92302, 12)\n",
            "(92302, 11)\n",
            "(92302, 11)\n",
            "(92302, 11)\n"
          ],
          "name": "stdout"
        }
      ]
    },
    {
      "metadata": {
        "id": "l9hwiul0ohJI",
        "colab_type": "code",
        "colab": {}
      },
      "cell_type": "code",
      "source": [
        "#scaler.fit(train_x)\n",
        "#train_x = scaler.transform(train_x)\n",
        "#test_x = scaler.transform(test_x)\n",
        "#submit_x = scaler.transform(X[54808:])\n",
        "train_x, test_x, train_y, test_y = train_test_split(X[:68812], y, train_size=0.7)\n",
        "submit_x = X[68812:]"
      ],
      "execution_count": 0,
      "outputs": []
    },
    {
      "metadata": {
        "id": "jgFpteZaohJL",
        "colab_type": "code",
        "colab": {
          "base_uri": "https://localhost:8080/",
          "height": 153
        },
        "outputId": "13c2d331-23c3-4fd7-9759-88b7df2b3eeb"
      },
      "cell_type": "code",
      "source": [
        "# This Python 3 environment comes with many helpful analytics libraries installed\n",
        "# It is defined by the kaggle/python docker image: https://github.com/kaggle/docker-python\n",
        "\n",
        "#load packages\n",
        "import sys #access to system parameters https://docs.python.org/3/library/sys.html\n",
        "print(\"Python version: {}\". format(sys.version))\n",
        "\n",
        "import pandas as pd #collection of functions for data processing and analysis modeled after R dataframes with SQL like features\n",
        "print(\"pandas version: {}\". format(pd.__version__))\n",
        "\n",
        "import matplotlib #collection of functions for scientific and publication-ready visualization\n",
        "print(\"matplotlib version: {}\". format(matplotlib.__version__))\n",
        "\n",
        "import numpy as np #foundational package for scientific computing\n",
        "print(\"NumPy version: {}\". format(np.__version__))\n",
        "\n",
        "import scipy as sp #collection of functions for scientific computing and advance mathematics\n",
        "print(\"SciPy version: {}\". format(sp.__version__)) \n",
        "\n",
        "import IPython\n",
        "from IPython import display #pretty printing of dataframes in Jupyter notebook\n",
        "print(\"IPython version: {}\". format(IPython.__version__)) \n",
        "\n",
        "import sklearn #collection of machine learning algorithms\n",
        "print(\"scikit-learn version: {}\". format(sklearn.__version__))\n",
        "import random\n",
        "import time\n",
        "import warnings\n",
        "warnings.filterwarnings('ignore')\n",
        "from subprocess import check_output"
      ],
      "execution_count": 56,
      "outputs": [
        {
          "output_type": "stream",
          "text": [
            "Python version: 3.6.3 (default, Oct  3 2017, 21:45:48) \n",
            "[GCC 7.2.0]\n",
            "pandas version: 0.22.0\n",
            "matplotlib version: 2.1.2\n",
            "NumPy version: 1.14.5\n",
            "SciPy version: 0.19.1\n",
            "IPython version: 5.5.0\n",
            "scikit-learn version: 0.19.2\n"
          ],
          "name": "stdout"
        }
      ]
    },
    {
      "metadata": {
        "id": "bC3vSwOTohJO",
        "colab_type": "code",
        "colab": {}
      },
      "cell_type": "code",
      "source": [
        "from sklearn import svm, tree, linear_model, neighbors, naive_bayes, ensemble, discriminant_analysis, gaussian_process\n",
        "from xgboost import XGBClassifier\n",
        "\n",
        "#Common Model Helpers\n",
        "from sklearn.preprocessing import OneHotEncoder, LabelEncoder\n",
        "from sklearn import feature_selection\n",
        "from sklearn import model_selection\n",
        "from sklearn import metrics\n",
        "\n",
        "#Visualization\n",
        "import matplotlib as mpl\n",
        "import matplotlib.pyplot as plt\n",
        "import matplotlib.pylab as pylab\n",
        "import seaborn as sns\n",
        "from pandas.tools.plotting import scatter_matrix\n",
        "\n",
        "#Configure Visualization Defaults\n",
        "#%matplotlib inline = show plots in Jupyter Notebook browser\n",
        "%matplotlib inline\n",
        "mpl.style.use('ggplot')\n",
        "sns.set_style('white')\n",
        "pylab.rcParams['figure.figsize'] = 12,8"
      ],
      "execution_count": 0,
      "outputs": []
    },
    {
      "metadata": {
        "id": "MDsHDQhiohJS",
        "colab_type": "code",
        "colab": {
          "base_uri": "https://localhost:8080/",
          "height": 85
        },
        "outputId": "ed9f4a9e-83ba-45ea-bdf1-1b467dd803b5"
      },
      "cell_type": "code",
      "source": [
        "print(\"Train_x Shape :: \", train_x.shape)\n",
        "print(\"Train_y Shape :: \", train_y.shape)\n",
        "print(\"Test_x Shape :: \", test_x.shape)\n",
        "print(\"Test_y Shape :: \", test_y.shape)    \n",
        "#Machine Learning Algorithm (MLA) Selection and Initialization\n",
        "MLA = [\n",
        "    #Ensemble Methods\n",
        "    #ensemble.AdaBoostClassifier(),\n",
        "    ensemble.BaggingClassifier(),\n",
        "    #ensemble.ExtraTreesClassifier(),\n",
        "    ensemble.GradientBoostingClassifier(),\n",
        "    ensemble.RandomForestClassifier(),\n",
        "\n",
        "    #Gaussian Processes\n",
        "    #gaussian_process.GaussianProcessClassifier(),\n",
        "    \n",
        "    #GLM\n",
        "    #linear_model.LogisticRegressionCV(),\n",
        "    #linear_model.PassiveAggressiveClassifier(),\n",
        "    #linear_model.RidgeClassifierCV(),\n",
        "    #linear_model.SGDClassifier(),\n",
        "    #linear_model.Perceptron(),\n",
        "    \n",
        "    #Navies Bayes\n",
        "    #naive_bayes.BernoulliNB(),\n",
        "    #naive_bayes.GaussianNB(),\n",
        "    \n",
        "    #Nearest Neighbor\n",
        "    #neighbors.KNeighborsClassifier(),\n",
        "    \n",
        "    #SVM\n",
        "    #svm.SVC(probability=True),\n",
        "    #svm.NuSVC(probability=True),\n",
        "    #svm.LinearSVC(),\n",
        "    \n",
        "    #Trees    \n",
        "    tree.DecisionTreeClassifier(),\n",
        "    #tree.ExtraTreeClassifier(),\n",
        "    \n",
        "    #Discriminant Analysis\n",
        "    #discriminant_analysis.LinearDiscriminantAnalysis(),\n",
        "    #discriminant_analysis.QuadraticDiscriminantAnalysis(),\n",
        "\n",
        "    \n",
        "    #xgboost: http://xgboost.readthedocs.io/en/latest/model.html\n",
        "    XGBClassifier()    \n",
        "    ]\n",
        "MLA_columns = ['MLA Name','MLA Train Accuracy Mean', 'MLA Test Accuracy Mean',  'MLA_F1_Score']\n",
        "MLA_compare = pd.DataFrame(columns = MLA_columns)\n",
        "\n",
        "row_index = 0"
      ],
      "execution_count": 64,
      "outputs": [
        {
          "output_type": "stream",
          "text": [
            "Train_x Shape ::  (48168, 11)\n",
            "Train_y Shape ::  (48168,)\n",
            "Test_x Shape ::  (20644, 11)\n",
            "Test_y Shape ::  (20644,)\n"
          ],
          "name": "stdout"
        }
      ]
    },
    {
      "metadata": {
        "id": "_QK6h5qJvsKX",
        "colab_type": "code",
        "colab": {
          "base_uri": "https://localhost:8080/",
          "height": 204
        },
        "outputId": "5051e0b3-ed17-4683-e703-39e582462229"
      },
      "cell_type": "code",
      "source": [
        "for model in MLA:\n",
        "\n",
        "    #set name and parameters\n",
        "    MLA_name = model.__class__.__name__\n",
        "    MLA_compare.loc[row_index, 'MLA Name'] = MLA_name\n",
        "    model.fit(train_x, train_y)\n",
        "    predictions = model.predict(test_x)\n",
        "    MLA_compare.loc[row_index, 'MLA Train Accuracy Mean'] = accuracy_score(train_y, model.predict(train_x))\n",
        "    MLA_compare.loc[row_index, 'MLA Test Accuracy Mean'] = accuracy_score(test_y, predictions)\n",
        "    MLA_compare.loc[row_index, 'MLA_F1_Score'] = f1_score(test_y, predictions)\n",
        "\n",
        "    #save MLA predictions - see section 6 for usage\n",
        "    \n",
        "    #MLA_predict[MLA_name] = alg.predict(data1[data1_x_bin])\n",
        "    \n",
        "    row_index+=1\n",
        "MLA_compare"
      ],
      "execution_count": 65,
      "outputs": [
        {
          "output_type": "execute_result",
          "data": {
            "text/html": [
              "<div>\n",
              "<style scoped>\n",
              "    .dataframe tbody tr th:only-of-type {\n",
              "        vertical-align: middle;\n",
              "    }\n",
              "\n",
              "    .dataframe tbody tr th {\n",
              "        vertical-align: top;\n",
              "    }\n",
              "\n",
              "    .dataframe thead th {\n",
              "        text-align: right;\n",
              "    }\n",
              "</style>\n",
              "<table border=\"1\" class=\"dataframe\">\n",
              "  <thead>\n",
              "    <tr style=\"text-align: right;\">\n",
              "      <th></th>\n",
              "      <th>MLA Name</th>\n",
              "      <th>MLA Train Accuracy Mean</th>\n",
              "      <th>MLA Test Accuracy Mean</th>\n",
              "      <th>MLA_F1_Score</th>\n",
              "    </tr>\n",
              "  </thead>\n",
              "  <tbody>\n",
              "    <tr>\n",
              "      <th>0</th>\n",
              "      <td>BaggingClassifier</td>\n",
              "      <td>0.997986</td>\n",
              "      <td>0.961781</td>\n",
              "      <td>0.932024</td>\n",
              "    </tr>\n",
              "    <tr>\n",
              "      <th>1</th>\n",
              "      <td>GradientBoostingClassifier</td>\n",
              "      <td>0.832275</td>\n",
              "      <td>0.833123</td>\n",
              "      <td>0.596084</td>\n",
              "    </tr>\n",
              "    <tr>\n",
              "      <th>2</th>\n",
              "      <td>RandomForestClassifier</td>\n",
              "      <td>0.998588</td>\n",
              "      <td>0.970064</td>\n",
              "      <td>0.94628</td>\n",
              "    </tr>\n",
              "    <tr>\n",
              "      <th>3</th>\n",
              "      <td>DecisionTreeClassifier</td>\n",
              "      <td>0.999543</td>\n",
              "      <td>0.942937</td>\n",
              "      <td>0.903221</td>\n",
              "    </tr>\n",
              "    <tr>\n",
              "      <th>4</th>\n",
              "      <td>XGBClassifier</td>\n",
              "      <td>0.828932</td>\n",
              "      <td>0.829587</td>\n",
              "      <td>0.58641</td>\n",
              "    </tr>\n",
              "  </tbody>\n",
              "</table>\n",
              "</div>"
            ],
            "text/plain": [
              "                     MLA Name MLA Train Accuracy Mean MLA Test Accuracy Mean  \\\n",
              "0           BaggingClassifier                0.997986               0.961781   \n",
              "1  GradientBoostingClassifier                0.832275               0.833123   \n",
              "2      RandomForestClassifier                0.998588               0.970064   \n",
              "3      DecisionTreeClassifier                0.999543               0.942937   \n",
              "4               XGBClassifier                0.828932               0.829587   \n",
              "\n",
              "  MLA_F1_Score  \n",
              "0     0.932024  \n",
              "1     0.596084  \n",
              "2      0.94628  \n",
              "3     0.903221  \n",
              "4      0.58641  "
            ]
          },
          "metadata": {
            "tags": []
          },
          "execution_count": 65
        }
      ]
    },
    {
      "metadata": {
        "id": "2QHORt-tohJX",
        "colab_type": "code",
        "colab": {
          "base_uri": "https://localhost:8080/",
          "height": 187
        },
        "outputId": "0444e64a-d175-4808-be6c-ac335ab27d57"
      },
      "cell_type": "code",
      "source": [
        "estimators= []\n",
        "estimators.append(('bdtc1',ensemble.BaggingClassifier()))\n",
        "estimators.append(('xgb1',tree.DecisionTreeClassifier()))\n",
        "estimators.append(('gbc1',XGBClassifier()    ))\n",
        "estimators.append(('nn', ensemble.GradientBoostingClassifier()))\n",
        "estimators.append(('nn1',ensemble.RandomForestClassifier(),))\n",
        "\n",
        "model = VotingClassifier(estimators)\n",
        "model.fit(train_x,train_y)\n",
        "predictions = model.predict(test_x)\n",
        "# Train and Test Accuracy\n",
        "print(classification_report(test_y,predictions))\n",
        "print(\"Train Accuracy :: \", accuracy_score(train_y, model.predict(train_x)))\n",
        "print(\"Test Accuracy  :: \", accuracy_score(test_y, predictions))\n",
        "print(\"F1_SCORE       :: \", f1_score(test_y, predictions))\n"
      ],
      "execution_count": 69,
      "outputs": [
        {
          "output_type": "stream",
          "text": [
            "             precision    recall  f1-score   support\n",
            "\n",
            "          0       0.99      0.98      0.98     15105\n",
            "          1       0.93      0.96      0.95      5539\n",
            "\n",
            "avg / total       0.97      0.97      0.97     20644\n",
            "\n",
            "Train Accuracy ::  0.9980277362564358\n",
            "Test Accuracy  ::  0.9719046696376671\n",
            "F1_SCORE       ::  0.9484444444444444\n"
          ],
          "name": "stdout"
        }
      ]
    },
    {
      "metadata": {
        "id": "_UB4SRuhohJa",
        "colab_type": "code",
        "colab": {
          "base_uri": "https://localhost:8080/",
          "height": 204
        },
        "outputId": "0b5e2613-07dd-471c-c9c0-fed2642cfd7f"
      },
      "cell_type": "code",
      "source": [
        "#print and sort table: https://pandas.pydata.org/pandas-docs/stable/generated/pandas.DataFrame.sort_values.html\n",
        "MLA_compare.sort_values(by = ['MLA_F1_Score'], ascending = False, inplace = True)\n",
        "MLA_compare\n",
        "#MLA_predict"
      ],
      "execution_count": 70,
      "outputs": [
        {
          "output_type": "execute_result",
          "data": {
            "text/html": [
              "<div>\n",
              "<style scoped>\n",
              "    .dataframe tbody tr th:only-of-type {\n",
              "        vertical-align: middle;\n",
              "    }\n",
              "\n",
              "    .dataframe tbody tr th {\n",
              "        vertical-align: top;\n",
              "    }\n",
              "\n",
              "    .dataframe thead th {\n",
              "        text-align: right;\n",
              "    }\n",
              "</style>\n",
              "<table border=\"1\" class=\"dataframe\">\n",
              "  <thead>\n",
              "    <tr style=\"text-align: right;\">\n",
              "      <th></th>\n",
              "      <th>MLA Name</th>\n",
              "      <th>MLA Train Accuracy Mean</th>\n",
              "      <th>MLA Test Accuracy Mean</th>\n",
              "      <th>MLA_F1_Score</th>\n",
              "    </tr>\n",
              "  </thead>\n",
              "  <tbody>\n",
              "    <tr>\n",
              "      <th>2</th>\n",
              "      <td>RandomForestClassifier</td>\n",
              "      <td>0.998588</td>\n",
              "      <td>0.970064</td>\n",
              "      <td>0.94628</td>\n",
              "    </tr>\n",
              "    <tr>\n",
              "      <th>0</th>\n",
              "      <td>BaggingClassifier</td>\n",
              "      <td>0.997986</td>\n",
              "      <td>0.961781</td>\n",
              "      <td>0.932024</td>\n",
              "    </tr>\n",
              "    <tr>\n",
              "      <th>3</th>\n",
              "      <td>DecisionTreeClassifier</td>\n",
              "      <td>0.999543</td>\n",
              "      <td>0.942937</td>\n",
              "      <td>0.903221</td>\n",
              "    </tr>\n",
              "    <tr>\n",
              "      <th>1</th>\n",
              "      <td>GradientBoostingClassifier</td>\n",
              "      <td>0.832275</td>\n",
              "      <td>0.833123</td>\n",
              "      <td>0.596084</td>\n",
              "    </tr>\n",
              "    <tr>\n",
              "      <th>4</th>\n",
              "      <td>XGBClassifier</td>\n",
              "      <td>0.828932</td>\n",
              "      <td>0.829587</td>\n",
              "      <td>0.58641</td>\n",
              "    </tr>\n",
              "  </tbody>\n",
              "</table>\n",
              "</div>"
            ],
            "text/plain": [
              "                     MLA Name MLA Train Accuracy Mean MLA Test Accuracy Mean  \\\n",
              "2      RandomForestClassifier                0.998588               0.970064   \n",
              "0           BaggingClassifier                0.997986               0.961781   \n",
              "3      DecisionTreeClassifier                0.999543               0.942937   \n",
              "1  GradientBoostingClassifier                0.832275               0.833123   \n",
              "4               XGBClassifier                0.828932               0.829587   \n",
              "\n",
              "  MLA_F1_Score  \n",
              "2      0.94628  \n",
              "0     0.932024  \n",
              "3     0.903221  \n",
              "1     0.596084  \n",
              "4      0.58641  "
            ]
          },
          "metadata": {
            "tags": []
          },
          "execution_count": 70
        }
      ]
    },
    {
      "metadata": {
        "id": "Xn3Pv7jBohJd",
        "colab_type": "code",
        "colab": {
          "base_uri": "https://localhost:8080/",
          "height": 204
        },
        "outputId": "6d77d83a-1338-4dae-9629-f5df7b3159a8"
      },
      "cell_type": "code",
      "source": [
        "print(\"Train_x Shape :: \", train_x.shape)\n",
        "print(\"Train_y Shape :: \", train_y.shape)\n",
        "print(\"Test_x Shape :: \", test_x.shape)\n",
        "print(\"Test_y Shape :: \", test_y.shape)    \n",
        "#rf = XGBClassifier()\n",
        "#rf = GradientBoostingClassifier(n_estimators=30, random_state=7)\n",
        "#rf.fit(train_x,train_y)\n",
        "cart0 = DecisionTreeClassifier()\n",
        "cart1 = RandomForestClassifier()\n",
        "num_trees = 27\n",
        "model1 = KNeighborsClassifier(n_neighbors=3)\n",
        "model0 = BaggingClassifier(base_estimator=cart0, n_estimators=num_trees, random_state=7)  #num_trees = 27 # .501 \n",
        "model = MLPClassifier(hidden_layer_sizes=(10,10,10),max_iter=1000)\n",
        "model2 = XGBClassifier(max_depth=10,min_child_weight=1,learning_rate=0.01,n_estimators=500,objective='binary:logistic')                                                                                  # .45\n",
        "model3 = GradientBoostingClassifier(n_estimators=22,max_depth=10)                                          # .48\n",
        "estimators= []\n",
        "estimators.append(('bdtc1',model0))\n",
        "estimators.append(('xgb1',model2))\n",
        "estimators.append(('gbc1',model3))\n",
        "estimators.append(('nn', model1))\n",
        "#model = VotingClassifier(estimators)\n",
        "\n",
        "\n",
        "model.fit(train_x,train_y)\n",
        "predictions = model.predict(test_x)\n",
        "# Train and Test Accuracy\n",
        "print(classification_report(test_y,predictions))"
      ],
      "execution_count": 68,
      "outputs": [
        {
          "output_type": "stream",
          "text": [
            "Train_x Shape ::  (48168, 11)\n",
            "Train_y Shape ::  (48168,)\n",
            "Test_x Shape ::  (20644, 11)\n",
            "Test_y Shape ::  (20644,)\n",
            "             precision    recall  f1-score   support\n",
            "\n",
            "          0       0.84      0.91      0.88     15105\n",
            "          1       0.69      0.53      0.60      5539\n",
            "\n",
            "avg / total       0.80      0.81      0.80     20644\n",
            "\n"
          ],
          "name": "stdout"
        }
      ]
    },
    {
      "metadata": {
        "id": "66FgrATmohJh",
        "colab_type": "code",
        "colab": {
          "base_uri": "https://localhost:8080/",
          "height": 68
        },
        "outputId": "081bc9c4-ee6e-4819-8db2-5a1df59071f3"
      },
      "cell_type": "code",
      "source": [
        "print(\"Train Accuracy :: \", accuracy_score(train_y, model.predict(train_x)))\n",
        "print(\"Test Accuracy  :: \", accuracy_score(test_y, predictions))\n",
        "print(\"F1_SCORE       :: \", f1_score(test_y, predictions))"
      ],
      "execution_count": 71,
      "outputs": [
        {
          "output_type": "stream",
          "text": [
            "Train Accuracy ::  0.9980277362564358\n",
            "Test Accuracy  ::  0.9719046696376671\n",
            "F1_SCORE       ::  0.9484444444444444\n"
          ],
          "name": "stdout"
        }
      ]
    },
    {
      "metadata": {
        "id": "2q076O2lohJl",
        "colab_type": "code",
        "colab": {
          "base_uri": "https://localhost:8080/",
          "height": 68
        },
        "outputId": "22e682f3-d123-4463-a44f-7decf36c8730"
      },
      "cell_type": "code",
      "source": [
        "y = test.employee_id\n",
        "predictions = model.predict(submit_x)\n",
        "df =pd.DataFrame({'employee_id' : [], 'is_promoted' : []})\n",
        "print(len(X))\n",
        "print(len(y))\n",
        "print(len(predictions))"
      ],
      "execution_count": 72,
      "outputs": [
        {
          "output_type": "stream",
          "text": [
            "92302\n",
            "23490\n",
            "23490\n"
          ],
          "name": "stdout"
        }
      ]
    },
    {
      "metadata": {
        "id": "IGCRP-PYohJp",
        "colab_type": "code",
        "colab": {}
      },
      "cell_type": "code",
      "source": [
        "df['employee_id'] = y\n",
        "df['is_promoted'] = predictions\n",
        "df.to_csv('ans.csv',index=False)"
      ],
      "execution_count": 0,
      "outputs": []
    },
    {
      "metadata": {
        "id": "5vGrwaxYohJu",
        "colab_type": "code",
        "colab": {
          "base_uri": "https://localhost:8080/",
          "height": 68
        },
        "outputId": "40b5ab49-677b-465e-93fb-e57091c912fa"
      },
      "cell_type": "code",
      "source": [
        "train['is_promoted'].value_counts()\n"
      ],
      "execution_count": 74,
      "outputs": [
        {
          "output_type": "execute_result",
          "data": {
            "text/plain": [
              "0    50140\n",
              "1    18672\n",
              "Name: is_promoted, dtype: int64"
            ]
          },
          "metadata": {
            "tags": []
          },
          "execution_count": 74
        }
      ]
    },
    {
      "metadata": {
        "id": "sGYA_mNwohJ0",
        "colab_type": "code",
        "colab": {
          "base_uri": "https://localhost:8080/",
          "height": 68
        },
        "outputId": "54abfcfb-0c1c-4886-8b1e-cee805c436ce"
      },
      "cell_type": "code",
      "source": [
        "df['is_promoted'].value_counts()"
      ],
      "execution_count": 75,
      "outputs": [
        {
          "output_type": "execute_result",
          "data": {
            "text/plain": [
              "0    22145\n",
              "1     1345\n",
              "Name: is_promoted, dtype: int64"
            ]
          },
          "metadata": {
            "tags": []
          },
          "execution_count": 75
        }
      ]
    },
    {
      "metadata": {
        "id": "xzBZLRfiohJ5",
        "colab_type": "code",
        "colab": {}
      },
      "cell_type": "code",
      "source": [
        ""
      ],
      "execution_count": 0,
      "outputs": []
    },
    {
      "metadata": {
        "id": "YH1irz_johJ8",
        "colab_type": "code",
        "colab": {}
      },
      "cell_type": "code",
      "source": [
        ""
      ],
      "execution_count": 0,
      "outputs": []
    }
  ]
}